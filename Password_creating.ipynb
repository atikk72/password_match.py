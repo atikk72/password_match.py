{
  "nbformat": 4,
  "nbformat_minor": 0,
  "metadata": {
    "colab": {
      "provenance": [],
      "authorship_tag": "ABX9TyPx8a/FzHBNoscAAmyBJlGq",
      "include_colab_link": true
    },
    "kernelspec": {
      "name": "python3",
      "display_name": "Python 3"
    },
    "language_info": {
      "name": "python"
    }
  },
  "cells": [
    {
      "cell_type": "markdown",
      "metadata": {
        "id": "view-in-github",
        "colab_type": "text"
      },
      "source": [
        "<a href=\"https://colab.research.google.com/github/atikk72/password_match.py/blob/main/Password_creating.ipynb\" target=\"_parent\"><img src=\"https://colab.research.google.com/assets/colab-badge.svg\" alt=\"Open In Colab\"/></a>"
      ]
    },
    {
      "cell_type": "code",
      "execution_count": 2,
      "metadata": {
        "id": "WRAdRk4QsUa2",
        "colab": {
          "base_uri": "https://localhost:8080/"
        },
        "outputId": "c5deb29b-f8d1-41bf-d8c1-bb6c0270fdb8"
      },
      "outputs": [
        {
          "output_type": "stream",
          "name": "stdout",
          "text": [
            "Enter your set password:gfs\n",
            "your have entered wrong password 2 attemp left\n",
            "Enter your set password:f\n",
            "your have entered wrong password 1 attemp left\n",
            "Enter your set password:gu\n",
            "your have entered wrong password 0 attemp left\n",
            " you have entered password wrong to many times: please contact user to unblock\n"
          ]
        }
      ],
      "source": [
        "\n",
        "\n",
        "# To create a password we need our set password first\n",
        "my_set_password=[\"admin12\",\"Atikk72\"]\n",
        "#then we need a empty string with variable name password\n",
        "password = ''\n",
        "# then we need how many times we can try to attempt the password for condition\n",
        "max_try=3\n",
        "# tries\n",
        "tries=0\n",
        "# now our condition\n",
        "while tries < max_try:  # meaning till our tries is less than max_try condition will execute\n",
        "    password=input(\"Enter your set password:\") # we need to enter our password\n",
        "    # after that we need to create a another conditional variable\n",
        "    match_password=None\n",
        "    for my_pass in my_set_password:                                     #>> meaning whatever input i am putting inside  password it will check\n",
        "        if my_pass in password:\n",
        "             match_password=True\n",
        "    if match_password == True:\n",
        "             print(\"your password matched\")\n",
        "             break\n",
        "    tries=tries+1\n",
        "    print(f\"your have entered wrong password {max_try- tries} attemp left\")\n",
        "if max_try==tries:\n",
        "    print(\" you have entered password wrong to many times: please contact userfgguk to unblock\")\n",
        ""
      ]
    },
    {
      "cell_type": "code",
      "source": [
        "dds"
      ],
      "metadata": {
        "colab": {
          "base_uri": "https://localhost:8080/"
        },
        "id": "ar9RAm6yvOsE",
        "outputId": "13c577d3-4388-4344-eaae-8ff71a0ff263"
      },
      "execution_count": 8,
      "outputs": [
        {
          "output_type": "stream",
          "name": "stdout",
          "text": [
            "Enter your set password here :dopwd\n",
            "you've enterd wrong password you have 2 attempt left\n",
            "Enter your set password here :jiaoia\n",
            "you've enterd wrong password you have 1 attempt left\n",
            "Enter your set password here :admin12\n",
            "Your password matched \n"
          ]
        }
      ]
    }
  ]
}