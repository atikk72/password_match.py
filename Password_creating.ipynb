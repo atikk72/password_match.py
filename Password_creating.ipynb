{
  "nbformat": 4,
  "nbformat_minor": 0,
  "metadata": {
    "colab": {
      "provenance": [],
      "authorship_tag": "ABX9TyOf8JfHf+51gFVP6gkSBsou",
      "include_colab_link": true
    },
    "kernelspec": {
      "name": "python3",
      "display_name": "Python 3"
    },
    "language_info": {
      "name": "python"
    }
  },
  "cells": [
    {
      "cell_type": "markdown",
      "metadata": {
        "id": "view-in-github",
        "colab_type": "text"
      },
      "source": [
        "<a href=\"https://colab.research.google.com/github/atikk72/password_match.py/blob/main/Password_creating.ipynb\" target=\"_parent\"><img src=\"https://colab.research.google.com/assets/colab-badge.svg\" alt=\"Open In Colab\"/></a>"
      ]
    },
    {
      "cell_type": "code",
      "execution_count": 33,
      "metadata": {
        "id": "WRAdRk4QsUa2"
      },
      "outputs": [],
      "source": [
        "my_password=[\"admin12\", \"Atikk72\",\"Password@#12\",\"Newpass#@\"]\n",
        "password=''\n",
        "max_try=3\n",
        "tries=0\n"
      ]
    },
    {
      "cell_type": "code",
      "source": [
        "\n",
        "while tries < max_try:\n",
        "  password=input(\"Enter your set password here :\")\n",
        "  match_password=None\n",
        "  for my_pass in my_password:\n",
        "    if my_pass == password:\n",
        "      match_password=True\n",
        "  if match_password==True:\n",
        "        print(\"Your password matched \")\n",
        "        break\n",
        "  tries=tries+1\n",
        "  print(\"you've enterd wrong password\")\n"
      ],
      "metadata": {
        "colab": {
          "base_uri": "https://localhost:8080/"
        },
        "id": "ar9RAm6yvOsE",
        "outputId": "36c0a7ed-f7d2-421d-cb29-58a1a35a4c17"
      },
      "execution_count": null,
      "outputs": [
        {
          "output_type": "stream",
          "name": "stdout",
          "text": [
            "Enter your set password here :Admin12\n",
            "you've enterd wrong password 2 more try\n",
            "you've enterd wrong password 1 more try\n"
          ]
        }
      ]
    },
    {
      "cell_type": "code",
      "source": [],
      "metadata": {
        "id": "f-QTFTduwyPk"
      },
      "execution_count": 27,
      "outputs": []
    }
  ]
}